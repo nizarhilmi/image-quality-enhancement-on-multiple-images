{
 "cells": [
  {
   "cell_type": "code",
   "execution_count": 1,
   "id": "c35a4531",
   "metadata": {},
   "outputs": [],
   "source": [
    "#import library\n",
    "import cv2\n",
    "import glob, os, tqdm\n",
    "from tqdm import tqdm\n",
    "\n",
    "#menetapkan cliplimit clahe\n",
    "clip_limit = 1"
   ]
  },
  {
   "cell_type": "code",
   "execution_count": 2,
   "id": "f61b24ed",
   "metadata": {},
   "outputs": [],
   "source": [
    "inp_cov= \"data/COVID\"\n",
    "out_train_cov= \"dataset-clahe/TRAINING/COVID\"\n",
    "out_test_cov= \"dataset-clahe/TESTING/COVID\"\n",
    "\n",
    "if not os.path.isdir(out_train_cov):\n",
    "    os.makedirs(out_train_cov)\n",
    "if not os.path.isdir(out_test_cov):\n",
    "    os.makedirs(out_test_cov)\n",
    "    \n",
    "\n",
    "inp_nor= \"data/NORMAL\"\n",
    "out_train_nor= \"dataset-clahe/TRAINING/NORMAL\"\n",
    "out_test_nor= \"dataset-clahe/TESTING/NORMAL\"\n",
    "\n",
    "if not os.path.isdir(out_train_nor):\n",
    "    os.makedirs(out_train_nor)\n",
    "if not os.path.isdir(out_test_nor):\n",
    "    os.makedirs(out_test_nor)"
   ]
  },
  {
   "cell_type": "code",
   "execution_count": 3,
   "id": "47665ae1",
   "metadata": {},
   "outputs": [
    {
     "name": "stderr",
     "output_type": "stream",
     "text": [
      "100%|██████████| 1266/1266 [00:36<00:00, 34.24it/s]\n"
     ]
    }
   ],
   "source": [
    "#menetapkan path input folder yang akan dilakukan penerapan CLAHE\n",
    "input_folder = \"dataset/TRAINING/COVID\"\n",
    "if not os.path.isdir(input_folder):\n",
    "    os.makedirs(input_folder)\n",
    "#mengambil len folder\n",
    "len_folder = len(input_folder)\n",
    "\n",
    "#melakukan looping sebanyak jumlah gambar yang terdapat pada path yang telah ditentukan sebelumnya\n",
    "\n",
    "for img in tqdm(glob.glob(input_folder + \"/*.jpeg\")):\n",
    "    \n",
    "    #membaca gambar dengan menggunakan opencv (OpenCV akan otomatis membaca gambar kedalam format BGR)\n",
    "    image = cv2.imread(img)\n",
    "    \n",
    "    #melakukan convert gambar dari BGR ke LAB\n",
    "    lab_image = cv2.cvtColor(image, cv2.COLOR_BGR2LAB)\n",
    "    \n",
    "    #melakukan split terhadap tiap channel L,A, dan B\n",
    "    l, a, b = cv2.split(lab_image)\n",
    "    \n",
    "    #menentukan konfigurasi clahe yang akan diterapkan\n",
    "    clahe = cv2.createCLAHE(clipLimit=clip_limit, tileGridSize=(8,8))\n",
    "    \n",
    "    #melakukan penerapan CLAHE terhadap channel L\n",
    "    l_clahe = clahe.apply(l)\n",
    "    \n",
    "    #melakukan merging kembali terhadap tiap channel LAB\n",
    "    new_lab_image = cv2.merge((l_clahe,a,b))\n",
    "    \n",
    "    #melakukan convert gambar dari LAB untuk dikembalikan menjadi format BGR\n",
    "    clahe_image = cv2.cvtColor(new_lab_image, cv2.COLOR_LAB2BGR)\n",
    "    \n",
    "    #menyimpan gambar yang telah dilakukan penerapan CLAHE pada path yang telah ditentukan\n",
    "    cv2.imwrite(\"dataset-clahe/TRAINING/COVID\"+img[len_folder:],clahe_image)"
   ]
  },
  {
   "cell_type": "code",
   "execution_count": 4,
   "id": "a008e285",
   "metadata": {},
   "outputs": [
    {
     "name": "stderr",
     "output_type": "stream",
     "text": [
      "100%|██████████| 1266/1266 [02:20<00:00,  9.00it/s]\n"
     ]
    }
   ],
   "source": [
    "#menetapkan path input folder yang akan dilakukan penerapan CLAHE\n",
    "input_folder = \"dataset/TRAINING/NORMAL\"\n",
    "if not os.path.isdir(input_folder):\n",
    "    os.makedirs(input_folder)\n",
    "#mengambil len folder\n",
    "len_folder = len(input_folder)\n",
    "\n",
    "#melakukan looping sebanyak jumlah gambar yang terdapat pada path yang telah ditentukan sebelumnya\n",
    "\n",
    "for img in tqdm(glob.glob(input_folder + \"/*.jpeg\")):\n",
    "    \n",
    "    #membaca gambar dengan menggunakan opencv (OpenCV akan otomatis membaca gambar kedalam format BGR)\n",
    "    image = cv2.imread(img)\n",
    "    \n",
    "    #melakukan convert gambar dari BGR ke LAB\n",
    "    lab_image = cv2.cvtColor(image, cv2.COLOR_BGR2LAB)\n",
    "    \n",
    "    #melakukan split terhadap tiap channel L,A, dan B\n",
    "    l, a, b = cv2.split(lab_image)\n",
    "    \n",
    "    #menentukan konfigurasi clahe yang akan diterapkan\n",
    "    clahe = cv2.createCLAHE(clipLimit=clip_limit, tileGridSize=(8,8))\n",
    "    \n",
    "    #melakukan penerapan CLAHE terhadap channel L\n",
    "    l_clahe = clahe.apply(l)\n",
    "    \n",
    "    #melakukan merging kembali terhadap tiap channel LAB\n",
    "    new_lab_image = cv2.merge((l_clahe,a,b))\n",
    "    \n",
    "    #melakukan convert gambar dari LAB untuk dikembalikan menjadi format BGR\n",
    "    clahe_image = cv2.cvtColor(new_lab_image, cv2.COLOR_LAB2BGR)\n",
    "    \n",
    "    #menyimpan gambar yang telah dilakukan penerapan CLAHE pada path yang telah ditentukan\n",
    "    cv2.imwrite(\"dataset-clahe/TRAINING/NORMAL\"+img[len_folder:],clahe_image)"
   ]
  },
  {
   "cell_type": "code",
   "execution_count": 5,
   "id": "e9e9cf4b",
   "metadata": {},
   "outputs": [
    {
     "name": "stderr",
     "output_type": "stream",
     "text": [
      "100%|██████████| 317/317 [00:17<00:00, 17.80it/s]\n"
     ]
    }
   ],
   "source": [
    "#menetapkan path input folder yang akan dilakukan penerapan CLAHE\n",
    "input_folder = \"dataset/TESTING/COVID\"\n",
    "if not os.path.isdir(input_folder):\n",
    "    os.makedirs(input_folder)\n",
    "#mengambil len folder\n",
    "len_folder = len(input_folder)\n",
    "\n",
    "#melakukan looping sebanyak jumlah gambar yang terdapat pada path yang telah ditentukan sebelumnya\n",
    "\n",
    "for img in tqdm(glob.glob(input_folder + \"/*.jpeg\")):\n",
    "    \n",
    "    #membaca gambar dengan menggunakan opencv (OpenCV akan otomatis membaca gambar kedalam format BGR)\n",
    "    image = cv2.imread(img)\n",
    "    \n",
    "    #melakukan convert gambar dari BGR ke LAB\n",
    "    lab_image = cv2.cvtColor(image, cv2.COLOR_BGR2LAB)\n",
    "    \n",
    "    #melakukan split terhadap tiap channel L,A, dan B\n",
    "    l, a, b = cv2.split(lab_image)\n",
    "    \n",
    "    #menentukan konfigurasi clahe yang akan diterapkan\n",
    "    clahe = cv2.createCLAHE(clipLimit=clip_limit, tileGridSize=(8,8))\n",
    "    \n",
    "    #melakukan penerapan CLAHE terhadap channel L\n",
    "    l_clahe = clahe.apply(l)\n",
    "    \n",
    "    #melakukan merging kembali terhadap tiap channel LAB\n",
    "    new_lab_image = cv2.merge((l_clahe,a,b))\n",
    "    \n",
    "    #melakukan convert gambar dari LAB untuk dikembalikan menjadi format BGR\n",
    "    clahe_image = cv2.cvtColor(new_lab_image, cv2.COLOR_LAB2BGR)\n",
    "    \n",
    "    #menyimpan gambar yang telah dilakukan penerapan CLAHE pada path yang telah ditentukan\n",
    "    cv2.imwrite(\"dataset-clahe/TESTING/COVID\"+img[len_folder:],clahe_image)"
   ]
  },
  {
   "cell_type": "code",
   "execution_count": 4,
   "id": "48ba9a34",
   "metadata": {},
   "outputs": [
    {
     "name": "stderr",
     "output_type": "stream",
     "text": [
      "100%|██████████| 317/317 [00:23<00:00, 13.44it/s]\n"
     ]
    }
   ],
   "source": [
    "#menetapkan path input folder yang akan dilakukan penerapan CLAHE\n",
    "input_folder = \"dataset/TESTING/NORMAL\"\n",
    "if not os.path.isdir(input_folder):\n",
    "    os.makedirs(input_folder)\n",
    "#mengambil len folder\n",
    "len_folder = len(input_folder)\n",
    "\n",
    "#melakukan looping sebanyak jumlah gambar yang terdapat pada path yang telah ditentukan sebelumnya\n",
    "\n",
    "for img in tqdm(glob.glob(input_folder + \"/*.jpeg\")):\n",
    "    \n",
    "    #membaca gambar dengan menggunakan opencv (OpenCV akan otomatis membaca gambar kedalam format BGR)\n",
    "    image = cv2.imread(img)\n",
    "    \n",
    "    #melakukan convert gambar dari BGR ke LAB\n",
    "    lab_image = cv2.cvtColor(image, cv2.COLOR_BGR2LAB)\n",
    "    \n",
    "    #melakukan split terhadap tiap channel L,A, dan B\n",
    "    l, a, b = cv2.split(lab_image)\n",
    "    \n",
    "    #menentukan konfigurasi clahe yang akan diterapkan\n",
    "    clahe = cv2.createCLAHE(clipLimit=clip_limit, tileGridSize=(8,8))\n",
    "    \n",
    "    #melakukan penerapan CLAHE terhadap channel L\n",
    "    l_clahe = clahe.apply(l)\n",
    "    \n",
    "    #melakukan merging kembali terhadap tiap channel LAB\n",
    "    new_lab_image = cv2.merge((l_clahe,a,b))\n",
    "    \n",
    "    #melakukan convert gambar dari LAB untuk dikembalikan menjadi format BGR\n",
    "    clahe_image = cv2.cvtColor(new_lab_image, cv2.COLOR_LAB2BGR)\n",
    "    \n",
    "    #menyimpan gambar yang telah dilakukan penerapan CLAHE pada path yang telah ditentukan\n",
    "    cv2.imwrite(\"dataset-clahe/TESTING/NORMAL\"+img[len_folder:],clahe_image)"
   ]
  }
 ],
 "metadata": {
  "kernelspec": {
   "display_name": "Python 3 (ipykernel)",
   "language": "python",
   "name": "python3"
  },
  "language_info": {
   "codemirror_mode": {
    "name": "ipython",
    "version": 3
   },
   "file_extension": ".py",
   "mimetype": "text/x-python",
   "name": "python",
   "nbconvert_exporter": "python",
   "pygments_lexer": "ipython3",
   "version": "3.8.12"
  }
 },
 "nbformat": 4,
 "nbformat_minor": 5
}
