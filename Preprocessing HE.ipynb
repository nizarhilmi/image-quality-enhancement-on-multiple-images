{
 "cells": [
  {
   "cell_type": "code",
   "execution_count": 1,
   "id": "a31244b8",
   "metadata": {},
   "outputs": [],
   "source": [
    "#import library\n",
    "import cv2\n",
    "import glob, os, tqdm\n",
    "from tqdm import tqdm"
   ]
  },
  {
   "cell_type": "code",
   "execution_count": 2,
   "id": "ff7fc71a",
   "metadata": {},
   "outputs": [],
   "source": [
    "inp_cov= \"data/COVID\"\n",
    "out_train_cov= \"dataset-he/TRAINING/COVID\"\n",
    "out_test_cov= \"dataset-he/TESTING/COVID\"\n",
    "\n",
    "if not os.path.isdir(out_train_cov):\n",
    "    os.makedirs(out_train_cov)\n",
    "if not os.path.isdir(out_test_cov):\n",
    "    os.makedirs(out_test_cov)\n",
    "    \n",
    "\n",
    "inp_nor= \"data/NORMAL\"\n",
    "out_train_nor= \"dataset-he/TRAINING/NORMAL\"\n",
    "out_test_nor= \"dataset-he/TESTING/NORMAL\"\n",
    "\n",
    "if not os.path.isdir(out_train_nor):\n",
    "    os.makedirs(out_train_nor)\n",
    "if not os.path.isdir(out_test_nor):\n",
    "    os.makedirs(out_test_nor)"
   ]
  },
  {
   "cell_type": "code",
   "execution_count": 3,
   "id": "4781a0d7",
   "metadata": {},
   "outputs": [
    {
     "name": "stderr",
     "output_type": "stream",
     "text": [
      "100%|██████████| 1266/1266 [00:41<00:00, 30.82it/s]\n"
     ]
    }
   ],
   "source": [
    "#menetapkan path input folder yang akan dilakukan penerapan CLAHE\n",
    "input_folder = \"dataset/TRAINING/COVID\"\n",
    "if not os.path.isdir(input_folder):\n",
    "    os.makedirs(input_folder)\n",
    "#mengambil len folder\n",
    "len_folder = len(input_folder)\n",
    "\n",
    "#melakukan looping sebanyak jumlah gambar yang terdapat pada path yang telah ditentukan sebelumnya\n",
    "\n",
    "for img in tqdm(glob.glob(input_folder + \"/*.jpeg\")):\n",
    "    \n",
    "    #membaca gambar dengan menggunakan opencv (OpenCV akan otomatis membaca gambar kedalam format BGR)\n",
    "    image = cv2.imread(img)\n",
    "    \n",
    "    #melakukan convert gambar dari BGR ke LAB\n",
    "    lab_image = cv2.cvtColor(image, cv2.COLOR_BGR2LAB)\n",
    "    \n",
    "    #melakukan split terhadap tiap channel L,A, dan B\n",
    "    l, a, b = cv2.split(lab_image)\n",
    "    \n",
    "    #menentukan konfigurasi clahe yang akan diterapkan\n",
    "    equ = cv2.equalizeHist(l)\n",
    "    \n",
    "    #melakukan merging kembali terhadap tiap channel LAB\n",
    "    new_lab_image = cv2.merge((equ,a,b))\n",
    "    \n",
    "    #melakukan convert gambar dari LAB untuk dikembalikan menjadi format BGR\n",
    "    clahe_image = cv2.cvtColor(new_lab_image, cv2.COLOR_LAB2BGR)\n",
    "    \n",
    "    #menyimpan gambar yang telah dilakukan penerapan CLAHE pada path yang telah ditentukan\n",
    "    cv2.imwrite(\"dataset-he/TRAINING/COVID\"+img[len_folder:],clahe_image)"
   ]
  },
  {
   "cell_type": "code",
   "execution_count": 4,
   "id": "e171b482",
   "metadata": {},
   "outputs": [
    {
     "name": "stderr",
     "output_type": "stream",
     "text": [
      "100%|██████████| 1266/1266 [01:39<00:00, 12.77it/s]\n"
     ]
    }
   ],
   "source": [
    "#menetapkan path input folder yang akan dilakukan penerapan CLAHE\n",
    "input_folder = \"dataset/TRAINING/NORMAL\"\n",
    "if not os.path.isdir(input_folder):\n",
    "    os.makedirs(input_folder)\n",
    "#mengambil len folder\n",
    "len_folder = len(input_folder)\n",
    "\n",
    "#melakukan looping sebanyak jumlah gambar yang terdapat pada path yang telah ditentukan sebelumnya\n",
    "\n",
    "for img in tqdm(glob.glob(input_folder + \"/*.jpeg\")):\n",
    "    \n",
    "    #membaca gambar dengan menggunakan opencv (OpenCV akan otomatis membaca gambar kedalam format BGR)\n",
    "    image = cv2.imread(img)\n",
    "    \n",
    "    #melakukan convert gambar dari BGR ke LAB\n",
    "    lab_image = cv2.cvtColor(image, cv2.COLOR_BGR2LAB)\n",
    "    \n",
    "    #melakukan split terhadap tiap channel L,A, dan B\n",
    "    l, a, b = cv2.split(lab_image)\n",
    "    \n",
    "    #menentukan konfigurasi clahe yang akan diterapkan\n",
    "    equ = cv2.equalizeHist(l)\n",
    "    \n",
    "    #melakukan merging kembali terhadap tiap channel LAB\n",
    "    new_lab_image = cv2.merge((equ,a,b))\n",
    "    \n",
    "    #melakukan convert gambar dari LAB untuk dikembalikan menjadi format BGR\n",
    "    clahe_image = cv2.cvtColor(new_lab_image, cv2.COLOR_LAB2BGR)\n",
    "    \n",
    "    #menyimpan gambar yang telah dilakukan penerapan CLAHE pada path yang telah ditentukan\n",
    "    cv2.imwrite(\"dataset-he/TRAINING/NORMAL\"+img[len_folder:],clahe_image)"
   ]
  },
  {
   "cell_type": "code",
   "execution_count": 5,
   "id": "b1adc4d6",
   "metadata": {},
   "outputs": [
    {
     "name": "stderr",
     "output_type": "stream",
     "text": [
      "100%|██████████| 317/317 [00:10<00:00, 31.47it/s]\n"
     ]
    }
   ],
   "source": [
    "#menetapkan path input folder yang akan dilakukan penerapan CLAHE\n",
    "input_folder = \"dataset/TESTING/COVID\"\n",
    "if not os.path.isdir(input_folder):\n",
    "    os.makedirs(input_folder)\n",
    "#mengambil len folder\n",
    "len_folder = len(input_folder)\n",
    "\n",
    "#melakukan looping sebanyak jumlah gambar yang terdapat pada path yang telah ditentukan sebelumnya\n",
    "\n",
    "for img in tqdm(glob.glob(input_folder + \"/*.jpeg\")):\n",
    "    \n",
    "    #membaca gambar dengan menggunakan opencv (OpenCV akan otomatis membaca gambar kedalam format BGR)\n",
    "    image = cv2.imread(img)\n",
    "    \n",
    "    #melakukan convert gambar dari BGR ke LAB\n",
    "    lab_image = cv2.cvtColor(image, cv2.COLOR_BGR2LAB)\n",
    "    \n",
    "    #melakukan split terhadap tiap channel L,A, dan B\n",
    "    l, a, b = cv2.split(lab_image)\n",
    "    \n",
    "    #menentukan konfigurasi clahe yang akan diterapkan\n",
    "    equ = cv2.equalizeHist(l)\n",
    "    \n",
    "    #melakukan merging kembali terhadap tiap channel LAB\n",
    "    new_lab_image = cv2.merge((equ,a,b))\n",
    "    \n",
    "    #melakukan convert gambar dari LAB untuk dikembalikan menjadi format BGR\n",
    "    clahe_image = cv2.cvtColor(new_lab_image, cv2.COLOR_LAB2BGR)\n",
    "    \n",
    "    #menyimpan gambar yang telah dilakukan penerapan CLAHE pada path yang telah ditentukan\n",
    "    cv2.imwrite(\"dataset-he/TESTING/COVID\"+img[len_folder:],clahe_image)"
   ]
  },
  {
   "cell_type": "code",
   "execution_count": null,
   "id": "b360aa09",
   "metadata": {},
   "outputs": [
    {
     "name": "stderr",
     "output_type": "stream",
     "text": [
      " 90%|█████████ | 286/317 [00:22<00:02, 11.74it/s]"
     ]
    }
   ],
   "source": [
    "#menetapkan path input folder yang akan dilakukan penerapan CLAHE\n",
    "input_folder = \"dataset/TESTING/NORMAL\"\n",
    "if not os.path.isdir(input_folder):\n",
    "    os.makedirs(input_folder)\n",
    "#mengambil len folder\n",
    "len_folder = len(input_folder)\n",
    "\n",
    "#melakukan looping sebanyak jumlah gambar yang terdapat pada path yang telah ditentukan sebelumnya\n",
    "\n",
    "for img in tqdm(glob.glob(input_folder + \"/*.jpeg\")):\n",
    "    \n",
    "    #membaca gambar dengan menggunakan opencv (OpenCV akan otomatis membaca gambar kedalam format BGR)\n",
    "    image = cv2.imread(img)\n",
    "    \n",
    "    #melakukan convert gambar dari BGR ke LAB\n",
    "    lab_image = cv2.cvtColor(image, cv2.COLOR_BGR2LAB)\n",
    "    \n",
    "    #melakukan split terhadap tiap channel L,A, dan B\n",
    "    l, a, b = cv2.split(lab_image)\n",
    "    \n",
    "    #menentukan konfigurasi clahe yang akan diterapkan\n",
    "    equ = cv2.equalizeHist(l)\n",
    "    \n",
    "    #melakukan merging kembali terhadap tiap channel LAB\n",
    "    new_lab_image = cv2.merge((equ,a,b))\n",
    "    \n",
    "    #melakukan convert gambar dari LAB untuk dikembalikan menjadi format BGR\n",
    "    clahe_image = cv2.cvtColor(new_lab_image, cv2.COLOR_LAB2BGR)\n",
    "    \n",
    "    #menyimpan gambar yang telah dilakukan penerapan CLAHE pada path yang telah ditentukan\n",
    "    cv2.imwrite(\"dataset-he/TESTING/NORMAL\"+img[len_folder:],clahe_image)"
   ]
  }
 ],
 "metadata": {
  "kernelspec": {
   "display_name": "Python 3 (ipykernel)",
   "language": "python",
   "name": "python3"
  },
  "language_info": {
   "codemirror_mode": {
    "name": "ipython",
    "version": 3
   },
   "file_extension": ".py",
   "mimetype": "text/x-python",
   "name": "python",
   "nbconvert_exporter": "python",
   "pygments_lexer": "ipython3",
   "version": "3.8.12"
  }
 },
 "nbformat": 4,
 "nbformat_minor": 5
}
